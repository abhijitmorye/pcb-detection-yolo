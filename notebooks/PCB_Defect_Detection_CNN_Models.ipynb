{
  "nbformat": 4,
  "nbformat_minor": 0,
  "metadata": {
    "colab": {
      "provenance": [],
      "private_outputs": true
    },
    "kernelspec": {
      "name": "python3",
      "display_name": "Python 3"
    },
    "language_info": {
      "name": "python"
    },
    "accelerator": "GPU"
  },
  "cells": [
    {
      "cell_type": "code",
      "execution_count": null,
      "metadata": {
        "id": "uN-KOU6SH4ci"
      },
      "outputs": [],
      "source": [
        "# Install this package to use Colab's GPU for training\n",
        "!apt install --allow-change-held-packages libcudnn8=8.4.1.50-1+cuda11.6"
      ]
    },
    {
      "cell_type": "code",
      "source": [
        "import os\n",
        "import zipfile\n",
        "from zipfile import ZipFile\n",
        "import matplotlib.pyplot as plt\n",
        "import tensorflow as tf\n",
        "import shutil\n",
        "from tensorflow.keras import layers\n",
        "from tensorflow.keras import Model\n",
        "from tensorflow.keras.optimizers import RMSprop\n",
        "from tensorflow.keras.preprocessing.image import ImageDataGenerator\n",
        "from tensorflow.keras.preprocessing.image import img_to_array, load_img\n",
        "from google.colab import drive\n",
        "drive.mount('/content/drive')"
      ],
      "metadata": {
        "id": "H-l1LIA3JGwN"
      },
      "execution_count": null,
      "outputs": []
    },
    {
      "cell_type": "code",
      "source": [
        "zip_file_path =  '/content/drive/MyDrive/PCB_Detection/VOC_PCB.zip'\n",
        "print(zip_file_path)"
      ],
      "metadata": {
        "id": "K9OU9mkgJHaN"
      },
      "execution_count": null,
      "outputs": []
    },
    {
      "cell_type": "code",
      "source": [
        "# ## Extracting the content \n",
        "\n",
        "with ZipFile(zip_file_path, 'r') as zip:\n",
        "  # print(zip.printdir())\n",
        "  zip.extractall('/content/drive/MyDrive/PCB_Detection')"
      ],
      "metadata": {
        "id": "D8KQmzmu0hfE"
      },
      "execution_count": null,
      "outputs": []
    },
    {
      "cell_type": "code",
      "source": [
        "main_path = '/content/drive/MyDrive/PCB_Detection/VOC_PCB'"
      ],
      "metadata": {
        "id": "xQnmc36YOhwr"
      },
      "execution_count": null,
      "outputs": []
    },
    {
      "cell_type": "code",
      "source": [
        "main_images_path = '/content/drive/MyDrive/PCB_Detection/VOC_PCB/JPEGImages'"
      ],
      "metadata": {
        "id": "yceNanZS1tia"
      },
      "execution_count": null,
      "outputs": []
    },
    {
      "cell_type": "code",
      "source": [
        "categoris = ['missing_hole','mouse_bite','open_circuit','short','spurious_copper','spur']"
      ],
      "metadata": {
        "id": "stNZp53sOc3T"
      },
      "execution_count": null,
      "outputs": []
    },
    {
      "cell_type": "code",
      "source": [
        "### creating dataset folder \n",
        "dataset_path = main_path + '/dataset'\n",
        "try:\n",
        "  os.makedirs(dataset_path)\n",
        "except:\n",
        "  print('Directory already exists!')"
      ],
      "metadata": {
        "id": "9n3X_IYmOvVr"
      },
      "execution_count": null,
      "outputs": []
    },
    {
      "cell_type": "code",
      "source": [
        "train_path = dataset_path + '/train'\n",
        "test_path = dataset_path + '/test'\n",
        "validation_path = dataset_path + '/validation'\n",
        "try:\n",
        "  os.makedirs(train_path)\n",
        "  os.makedirs(test_path)\n",
        "  os.makedirs(validation_path)\n",
        "except:\n",
        "  print('Directories already exist!')"
      ],
      "metadata": {
        "id": "xsGA_uWaPGk7"
      },
      "execution_count": null,
      "outputs": []
    },
    {
      "cell_type": "code",
      "source": [
        "def create_dataset(file, target_path, main_images_path=main_images_path):\n",
        "  files = open(file, 'r').read().split('\\n')\n",
        "  all_images = os.listdir(main_images_path)\n",
        "  # print(all_images[0])\n",
        "  counter = 1\n",
        "  for file in files:\n",
        "    for category in categoris:\n",
        "      if category in file:\n",
        "        try:\n",
        "          target_path1 = target_path + '/' + category\n",
        "          os.makedirs(target_path1)\n",
        "        except:\n",
        "          print('already_exists')\n",
        "        if file+\".jpg\" in all_images:\n",
        "          source = main_images_path + '/' + file + '.jpg'\n",
        "          target = target_path1 + '/' + file + '.jpg'\n",
        "          # print(source, target)\n",
        "          # print('*'*100)\n",
        "          shutil.copyfile(source, target)\n",
        "          os.rename(target, target_path1 + '/' + category + '_' + str(counter) +'.jpg')\n",
        "          counter += 1\n",
        "  # print(len(os.listdir(target_path)))\n",
        "\n",
        "\n",
        "        \n",
        "\n",
        "\n",
        "\n"
      ],
      "metadata": {
        "id": "hjEpT42XPc7R"
      },
      "execution_count": null,
      "outputs": []
    },
    {
      "cell_type": "code",
      "source": [
        "train_files_names = '/content/drive/MyDrive/PCB_Detection/VOC_PCB/ImageSets/Main/train.txt'\n",
        "create_dataset(train_files_names, train_path)"
      ],
      "metadata": {
        "id": "_9KxUZ05RHj3"
      },
      "execution_count": null,
      "outputs": []
    },
    {
      "cell_type": "code",
      "source": [
        "validation_files_name = '/content/drive/MyDrive/PCB_Detection/VOC_PCB/ImageSets/Main/val.txt'\n",
        "create_dataset(validation_files_name, validation_path) "
      ],
      "metadata": {
        "id": "a7BethzARQ_A"
      },
      "execution_count": null,
      "outputs": []
    },
    {
      "cell_type": "code",
      "source": [
        "test_files_name = '/content/drive/MyDrive/PCB_Detection/VOC_PCB/ImageSets/Main/test.txt'\n",
        "create_dataset(test_files_name, test_path)"
      ],
      "metadata": {
        "id": "xwVNX5BielMK"
      },
      "execution_count": null,
      "outputs": []
    },
    {
      "cell_type": "code",
      "source": [
        "# import re\n",
        "# sub_directories = os.listdir(train_path)\n",
        "# # print(os.listdir(train_path+'/'+sub_directories[0]))\n",
        "# test = 'short_1111.jpg'\n",
        "# print(test)\n",
        "# test = re.sub(r'[0-9]+', str(0), test)\n",
        "# print(test)\n",
        "# # os.listdir(train_path+'/'+sub_directories[0])[0]\n",
        "\n",
        "# def renaming_images(path):\n",
        "#   sub_directories = os.listdir(path)\n",
        "#   for dir in sub_directories:\n",
        "#     counter = 0\n",
        "#     files = os.listdir(sub_directories)\n",
        "#     for file in files:\n",
        "#       file"
      ],
      "metadata": {
        "id": "m0MOfeCskgK0"
      },
      "execution_count": null,
      "outputs": []
    },
    {
      "cell_type": "code",
      "source": [
        "train_path_generator = ImageDataGenerator(rescale=1.0/255.0,\n",
        "                                          rotation_range=40,\n",
        "                                          horizontal_flip=True,\n",
        "                                          shear_range=0.2,\n",
        "                                          height_shift_range=0.2,\n",
        "                                          width_shift_range=0.2,\n",
        "                                          validation_split=0.2,\n",
        "                                          zoom_range=0.2)\n",
        "\n",
        "train_dataset = train_path_generator.flow_from_directory(\n",
        "                                                         train_path,\n",
        "                                                         class_mode='categorical',\n",
        "                                                         batch_size=20,\n",
        "                                                         target_size=(600, 600)\n",
        "                                                        )"
      ],
      "metadata": {
        "id": "VhHC1YIbfV6e"
      },
      "execution_count": null,
      "outputs": []
    },
    {
      "cell_type": "code",
      "source": [
        "val_gen = ImageDataGenerator(rescale=1.0/255.0)\n",
        "val_dataset = val_gen.flow_from_directory(\n",
        "                                          validation_path,\n",
        "                                          class_mode='categorical',\n",
        "                                          batch_size=20,\n",
        "                                          target_size=(600, 600)\n",
        "                                        )"
      ],
      "metadata": {
        "id": "KHsyuzqAlXjj"
      },
      "execution_count": null,
      "outputs": []
    },
    {
      "cell_type": "code",
      "source": [
        "### model building\n",
        "\n",
        "model = tf.keras.Sequential([\n",
        "    tf.keras.layers.Conv2D(128, (3, 3), input_shape=(600, 600, 3), activation='relu'),\n",
        "    tf.keras.layers.MaxPool2D((2,2)),\n",
        "    tf.keras.layers.Conv2D(64, (3, 3), activation='relu'),\n",
        "    tf.keras.layers.MaxPool2D((2,2)),\n",
        "    tf.keras.layers.Conv2D(32, (3, 3), activation='relu'),\n",
        "    tf.keras.layers.MaxPool2D((2,2)),\n",
        "    tf.keras.layers.Conv2D(16, (3, 3), activation='relu'),\n",
        "    tf.keras.layers.MaxPool2D((2,2)),\n",
        "    tf.keras.layers.Flatten(),\n",
        "    tf.keras.layers.Dense(256, activation='relu'),\n",
        "    tf.keras.layers.Dropout(0.3),\n",
        "    tf.keras.layers.Dense(6, activation='softmax')\n",
        "])"
      ],
      "metadata": {
        "id": "bZYo1uf8l5Nf"
      },
      "execution_count": null,
      "outputs": []
    },
    {
      "cell_type": "code",
      "source": [
        "model.compile(loss=tf.keras.losses.CategoricalCrossentropy(),\n",
        "              optimizer=tf.keras.optimizers.SGD(lr=0.01, decay=1e-6, momentum=0.9, nesterov=True),\n",
        "              metrics=['accuracy'])\n",
        "history = model.fit(train_dataset,\n",
        "          validation_data=val_dataset,\n",
        "          epochs=10)"
      ],
      "metadata": {
        "id": "q15f0kRpmlqS"
      },
      "execution_count": null,
      "outputs": []
    },
    {
      "cell_type": "code",
      "source": [
        "## Plotting accuracy\n",
        "plt.figure(figsize=(10, 5))\n",
        "plt.plot(history.history['accuracy'], label='Training Accuracy')\n",
        "plt.plot(history.history['val_accuracy'], label='Validation Accuracy')\n",
        "plt.xlabel('Epochs')\n",
        "plt.legend()\n",
        "plt.ylabel('Accuracy')\n",
        "plt.title('Accuracy')\n",
        "plt.show()"
      ],
      "metadata": {
        "id": "n9keNTXLnFFU"
      },
      "execution_count": null,
      "outputs": []
    },
    {
      "cell_type": "code",
      "source": [
        "## Plotting loss\n",
        "plt.figure(figsize=(10, 5))\n",
        "plt.plot(history.history['loss'], label='Training Loss')\n",
        "plt.plot(history.history['val_loss'], label='Validation Loss')\n",
        "plt.xlabel('Epochs')\n",
        "plt.legend()\n",
        "plt.ylabel('loss')\n",
        "plt.title('Loss')\n",
        "plt.show()"
      ],
      "metadata": {
        "id": "BFj_1JVxTJrE"
      },
      "execution_count": null,
      "outputs": []
    },
    {
      "cell_type": "code",
      "source": [
        "### Changing optimizer\n",
        "### model building\n",
        "\n",
        "model_do = tf.keras.Sequential([\n",
        "    tf.keras.layers.Conv2D(128, (3, 3), input_shape=(150, 150, 3), activation='relu'),\n",
        "    tf.keras.layers.MaxPool2D((2,2)),\n",
        "    tf.keras.layers.Conv2D(64, (3, 3), activation='relu'),\n",
        "    tf.keras.layers.MaxPool2D((2,2)),\n",
        "    tf.keras.layers.Conv2D(32, (3, 3), activation='relu'),\n",
        "    tf.keras.layers.MaxPool2D((2,2)),\n",
        "    tf.keras.layers.Conv2D(16, (3, 3), activation='relu'),\n",
        "    tf.keras.layers.MaxPool2D((2,2)),\n",
        "    tf.keras.layers.Flatten(),\n",
        "    tf.keras.layers.Dense(128, activation='relu'),\n",
        "    tf.keras.layers.Dropout(0.3),\n",
        "    tf.keras.layers.Dense(6, activation='softmax')\n",
        "])\n",
        "\n",
        "\n",
        "model_do.compile(loss=tf.keras.losses.CategoricalCrossentropy(),\n",
        "              optimizer=tf.keras.optimizers.RMSprop(),\n",
        "              metrics=['accuracy'])\n",
        "history_rms_do = model_do.fit(train_dataset,\n",
        "          validation_data=val_dataset,\n",
        "          epochs=10)"
      ],
      "metadata": {
        "id": "IXsV4LOvTpjW"
      },
      "execution_count": null,
      "outputs": []
    },
    {
      "cell_type": "code",
      "source": [
        "### Transfer Learning\n",
        "from tensorflow.keras.applications import ResNet50"
      ],
      "metadata": {
        "id": "2cepCwhpUBt_"
      },
      "execution_count": null,
      "outputs": []
    },
    {
      "cell_type": "code",
      "source": [
        "feature_extractor = ResNet50(weights='imagenet', \n",
        "                             input_shape=(600, 600, 3),\n",
        "                             include_top=False)"
      ],
      "metadata": {
        "id": "wrrL_Xj6sRZs"
      },
      "execution_count": null,
      "outputs": []
    },
    {
      "cell_type": "code",
      "source": [
        "feature_extractor.trainable = False\n"
      ],
      "metadata": {
        "id": "XgcFFuqDshBM"
      },
      "execution_count": null,
      "outputs": []
    },
    {
      "cell_type": "code",
      "source": [
        "for layer in feature_extractor.layers[:-2]:\n",
        "  layer.trainable = True"
      ],
      "metadata": {
        "id": "70gjJoYHt9-V"
      },
      "execution_count": null,
      "outputs": []
    },
    {
      "cell_type": "code",
      "source": [
        "input_ = tf.keras.Input(shape=(600, 600, 3))\n",
        "x = feature_extractor(input_, training=True)\n",
        "x = tf.keras.layers.GlobalAveragePooling2D()(x)\n",
        "output_ = tf.keras.layers.Dense(6, activation='softmax')(x)\n",
        "model_ResNet = tf.keras.Model(input_, output_)\n",
        "model_ResNet.compile(loss=tf.keras.losses.CategoricalCrossentropy(),\n",
        "              optimizer=tf.keras.optimizers.Adam(),\n",
        "              metrics=['accuracy'])"
      ],
      "metadata": {
        "id": "xaFUyGiXs03h"
      },
      "execution_count": null,
      "outputs": []
    },
    {
      "cell_type": "code",
      "source": [],
      "metadata": {
        "id": "jEzSJc-etzKA"
      },
      "execution_count": null,
      "outputs": []
    },
    {
      "cell_type": "code",
      "source": [
        "model_ResNet.summary()"
      ],
      "metadata": {
        "id": "VNdlSzpJty7y"
      },
      "execution_count": null,
      "outputs": []
    },
    {
      "cell_type": "code",
      "source": [
        "history_resnet = model_ResNet.fit(train_dataset,\n",
        "          validation_data=val_dataset,\n",
        "          epochs=10)"
      ],
      "metadata": {
        "id": "7KMG-_Bxt6Pp"
      },
      "execution_count": null,
      "outputs": []
    },
    {
      "cell_type": "code",
      "source": [
        "epochs = len(history_resnet.history['accuracy'])\n",
        "plt.plot(range(epochs), history_resnet.history['accuracy'], label='Trainig Accuracy')\n",
        "plt.plot(range(epochs), history_resnet.history['val_accuracy'], label='Validation Accuracy')\n",
        "plt.title('Accuracy Vs Val Accuracy')\n",
        "plt.xlabel('Epochs')\n",
        "plt.ylabel('Accuracy')\n",
        "plt.legend()\n",
        "plt.show()"
      ],
      "metadata": {
        "id": "Wf235oeu_kp-"
      },
      "execution_count": null,
      "outputs": []
    },
    {
      "cell_type": "code",
      "source": [
        "plt.plot(range(epochs), history_resnet.history['loss'], label='Trainig loss')\n",
        "plt.plot(range(epochs), history_resnet.history['val_loss'], label='Validation loss')\n",
        "plt.title('Training loss Vs Val loss')\n",
        "plt.xlabel('Epochs')\n",
        "plt.ylabel('Loss')\n",
        "plt.legend()\n",
        "plt.show()"
      ],
      "metadata": {
        "id": "c9MRv-RpMo8K"
      },
      "execution_count": null,
      "outputs": []
    },
    {
      "cell_type": "code",
      "source": [
        "### Getting VGG16 weights\n",
        "!wget --no-check-certificate \\\n",
        "    https://storage.googleapis.com/mledu-datasets/inception_v3_weights_tf_dim_ordering_tf_kernels_notop.h5 \\\n",
        "    -O /content/drive/MyDrive/PCB_Detection/inception_v3_weights_tf_dim_ordering_tf_kernels_notop.h5"
      ],
      "metadata": {
        "id": "2jWCT49HM591"
      },
      "execution_count": null,
      "outputs": []
    },
    {
      "cell_type": "code",
      "source": [
        "from tensorflow.keras.applications.inception_v3 import InceptionV3\n",
        "from tensorflow.keras import layers"
      ],
      "metadata": {
        "id": "lEIvwyENODx5"
      },
      "execution_count": null,
      "outputs": []
    },
    {
      "cell_type": "code",
      "source": [
        "local_weight_files = '/content/drive/MyDrive/PCB_Detection/inception_v3_weights_tf_dim_ordering_tf_kernels_notop.h5'"
      ],
      "metadata": {
        "id": "u-JSuMIKxRI0"
      },
      "execution_count": null,
      "outputs": []
    },
    {
      "cell_type": "code",
      "source": [
        "# Initialize the base model.\n",
        "# Set the input shape and remove the dense layers.\n",
        "pre_trained_model = InceptionV3(input_shape = (600, 600, 3), \n",
        "                                include_top = False, \n",
        "                                weights = None)\n",
        "\n",
        "# Load the pre-trained weights you downloaded.\n",
        "pre_trained_model.load_weights(local_weight_files)\n",
        "\n",
        "# Freeze the weights of the layers.\n",
        "for layer in pre_trained_model.layers:\n",
        "  layer.trainable = False"
      ],
      "metadata": {
        "id": "rFYZAl--xZjt"
      },
      "execution_count": null,
      "outputs": []
    },
    {
      "cell_type": "code",
      "source": [
        "pre_trained_model.summary()"
      ],
      "metadata": {
        "id": "LhLwekpfxgfX"
      },
      "execution_count": null,
      "outputs": []
    },
    {
      "cell_type": "code",
      "source": [
        "last_layer = pre_trained_model.get_layer('mixed7')\n",
        "last_layer_output = last_layer.output"
      ],
      "metadata": {
        "id": "6BxTDWMAxue5"
      },
      "execution_count": null,
      "outputs": []
    },
    {
      "cell_type": "code",
      "source": [
        "x = layers.Flatten()(last_layer_output)\n",
        "x = layers.Dense(1024, activation='relu')(x)\n",
        "x = layers.Dropout(0.2)(x)\n",
        "x = layers.Dense(6, activation='softmax')(x)\n",
        "model_VGG16 = Model(pre_trained_model.input, x)\n",
        "model_VGG16.summary()"
      ],
      "metadata": {
        "id": "emyszW_7ywEG"
      },
      "execution_count": null,
      "outputs": []
    },
    {
      "cell_type": "code",
      "source": [
        "from tensorflow.python import metrics\n",
        "model_VGG16.compile(loss=tf.keras.losses.CategoricalCrossentropy(),\n",
        "                    optimizer=tf.keras.optimizers.SGD(lr=1e-4),\n",
        "                    metrics=['accuracy'])\n",
        "history = model_VGG16.fit(\n",
        "            train_dataset,\n",
        "            validation_data = val_dataset,\n",
        "            steps_per_epoch = 100,\n",
        "            epochs = 10,\n",
        "            validation_steps = 50)"
      ],
      "metadata": {
        "id": "gR0iCXCnzwBK"
      },
      "execution_count": null,
      "outputs": []
    },
    {
      "cell_type": "code",
      "source": [
        "epochs = len(history.history['accuracy'])\n",
        "plt.plot(range(epochs), history.history['accuracy'], label='Trainig Accuracy')\n",
        "plt.plot(range(epochs), history.history['val_accuracy'], label='Validation Accuracy')\n",
        "plt.title('Accuracy Vs Val Accuracy')\n",
        "plt.xlabel('Epochs')\n",
        "plt.ylabel('Accuracy')\n",
        "plt.legend()\n",
        "plt.show()"
      ],
      "metadata": {
        "id": "_G7bDQk51HPr"
      },
      "execution_count": null,
      "outputs": []
    },
    {
      "cell_type": "code",
      "source": [
        "plt.plot(range(epochs), history.history['loss'], label='Trainig loss')\n",
        "plt.plot(range(epochs), history.history['val_loss'], label='Validation loss')\n",
        "plt.title('Training loss Vs Val loss')\n",
        "plt.xlabel('Epochs')\n",
        "plt.ylabel('Loss')\n",
        "plt.legend()\n",
        "plt.show()"
      ],
      "metadata": {
        "id": "kQxW63NiFKLK"
      },
      "execution_count": null,
      "outputs": []
    },
    {
      "cell_type": "code",
      "source": [],
      "metadata": {
        "id": "cMJKxwCcFVHK"
      },
      "execution_count": null,
      "outputs": []
    }
  ]
}